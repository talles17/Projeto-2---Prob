{
 "cells": [
  {
   "cell_type": "code",
<<<<<<< HEAD
   "execution_count": 125,
=======
   "execution_count": 16,
>>>>>>> 538042f44fc4226409ddaee87befc54d400d762e
   "metadata": {},
   "outputs": [
    {
     "ename": "SyntaxError",
     "evalue": "EOL while scanning string literal (<ipython-input-125-ccbf722e49e1>, line 78)",
     "output_type": "error",
     "traceback": [
      "\u001b[0;36m  File \u001b[0;32m\"<ipython-input-125-ccbf722e49e1>\"\u001b[0;36m, line \u001b[0;32m78\u001b[0m\n\u001b[0;31m    ''''\u001b[0m\n\u001b[0m                \n^\u001b[0m\n\u001b[0;31mSyntaxError\u001b[0m\u001b[0;31m:\u001b[0m EOL while scanning string literal\n"
     ]
    }
   ],
   "source": [
    "import pandas as pd\n",
    "\n",
    "df = pd.read_csv('componentes-curriculares-presenciais.csv' , sep = ';')\n",
    "fmc_1 = df[(df.codigo == \"IMD0028\") & (df.nome == \"FUNDAMENTOS MATEMÁTICOS DA COMPUTAÇÃO I\")]\n",
    "fmc_2 = df[(df.codigo == \"IMD0038\") & (df.nome == \"FUNDAMENTOS MATEMÁTICOS DA COMPUTAÇÃO II\")]\n",
    "fmc_1_id = int(fmc_1.id_componente)\n",
    "fmc_2_id = int(fmc_2.id_componente)\n",
    "##print(fmc_1_id)\n",
    "\n",
    "                #ORGANIZANDO O ANO DE 2014\n",
    "                #2014.1\n",
    "\n",
    "df = pd.read_csv('turmas-2014.1.csv' , sep = ';')\n",
    "fmc_1_2014_1 = df[df.id_componente_curricular == fmc_1_id] #separando as turmas de fmc1\n",
    "id_fmc_1_turmas_2014_1 = list(fmc_1_2014_1.id_turma)  #colocando em lista de turmas de fmc1 do periodo\n",
    "\n",
    "##print (fmc_1_turmas_2014_1)\n",
    "\n",
    "df = pd.read_csv('matricula-componente-20141.csv', sep = ';') \n",
    "turmas_fmc_1_2014_1 = df[df.id_turma == id_fmc_1_turmas_2014_1[0]] \n",
    "\n",
    "for i in range(1 , len(id_fmc_1_turmas_2014_1)):\n",
    "    temp = df[df.id_turma == id_fmc_1_turmas_2014_1[i]]\n",
    "    turmas_fmc_1_2014_1 = pd.concat([turmas_fmc_1_2014_1, temp])\n",
    "    \n",
    "alunos_aprovados_fmc_1 = turmas_fmc_1_2014_1[(turmas_fmc_1_2014_1.descricao == 'APROVADO POR NOTA') |\n",
    "                                             (turmas_fmc_1_2014_1.descricao == 'APROVADO POR MEDIA')]\n",
    "\n",
    "                    #2014.2\n",
    "\n",
    "df = pd.read_csv('turmas-2014.2.csv' , sep = ';')\n",
    "fmc_1_2014_2 = df[df.id_componente_curricular == fmc_1_id]\n",
    "fmc_2_2014_2 = df[df.id_componente_curricular == fmc_2_id]\n",
    "id_fmc_1_turmas_2014_2 = list(fmc_1_2015_2.id_turma)\n",
    "id_fmc_2_turmas_2014_2 = list(fmc_2_2015_2.id_turma)\n",
    "##print (id_fmc_2_turmas_2015_2)\n",
    "\n",
    "df = pd.read_csv('matricula-componente-20142.csv', sep = ';')\n",
    "turmas_fmc_1_2014_2 = df[df.id_turma == id_fmc_1_turmas_2014_2[0]]\n",
    "\n",
    "for i in range(1 , len(id_fmc_1_turmas_2014_2)):\n",
    "    temp = df[df.id_turma == id_fmc_1_turmas_2014_2[i]]\n",
    "    turmas_fmc_1_2014_2 = pd.concat([turmas_fmc_1_2014_2, temp])\n",
    "    \n",
    "temp2 = turmas_fmc_1_2014_2[(turmas_fmc_1_2014_2.descricao == 'APROVADO POR NOTA') |\n",
    "                            (turmas_fmc_1_2014_2.descricao == 'APROVADO POR MEDIA')]\n",
    "alunos_aprovados_fmc_1 = pd.concat([alunos_aprovados_fmc_1,temp2])\n",
    "\n",
    "                # ORGANIZANDO O ANO DE 2015\n",
    "    \n",
    "                 #2015.1\n",
    "\n",
    "df = pd.read_csv('turmas-2015.1.csv' , sep = ';')\n",
    "fmc_1_2015_1 = df[df.id_componente_curricular == fmc_1_id] #separando as turmas de fmc1\n",
    "id_fmc_1_turmas_2015_1 = list(fmc_1_2015_1.id_turma)  #colocando em lista de turmas de fmc1 do periodo\n",
    "\n",
    "##print (fmc_1_turmas_2015_1)\n",
    "\n",
    "df = pd.read_csv('matriculas-de-2015.1.csv', sep = ';') \n",
    "turmas_fmc_1_2015_1 = df[df.id_turma == id_fmc_1_turmas_2015_1[0]] \n",
    "\n",
    "for i in range(1 , len(id_fmc_1_turmas_2015_1)):\n",
    "    temp = df[df.id_turma == id_fmc_1_turmas_2015_1[i]]\n",
    "    turmas_fmc_1_2015_1 = pd.concat([turmas_fmc_1_2015_1, temp])\n",
    "    \n",
    "alunos_aprovados_fmc_1 = turmas_fmc_1_2015_1[(turmas_fmc_1_2015_1.descricao == 'APROVADO POR NOTA') |\n",
    "                                             (turmas_fmc_1_2015_1.descricao == 'APROVADO POR MEDIA')]\n",
    "                    #2015.2\n",
    "\n",
    "df = pd.read_csv('turmas-2015.2.csv' , sep = ';')\n",
    "fmc_1_2015_2 = df[df.id_componente_curricular == fmc_1_id]\n",
    "fmc_2_2015_2 = df[df.id_componente_curricular == fmc_2_id]\n",
    "id_fmc_1_turmas_2015_2 = list(fmc_1_2015_2.id_turma)\n",
    "id_fmc_2_turmas_2015_2 = list(fmc_2_2015_2.id_turma)\n",
    "##print (id_fmc_2_turmas_2015_2)\n",
    "\n",
    "df = pd.read_csv('matriculas-de-2015.2.csv', sep = ';')\n",
    "turmas_fmc_1_2015_2 = df[df.id_turma == id_fmc_1_turmas_2015_2[0]]\n",
    "\n",
    "for i in range(1 , len(id_fmc_1_turmas_2015_2)):\n",
    "    temp = df[df.id_turma == id_fmc_1_turmas_2015_2[i]]\n",
    "    turmas_fmc_1_2015_2 = pd.concat([turmas_fmc_1_2015_2, temp])\n",
    "    \n",
    "temp2 = turmas_fmc_1_2015_2[(turmas_fmc_1_2015_2.descricao == 'APROVADO POR NOTA') |\n",
    "                            (turmas_fmc_1_2015_2.descricao == 'APROVADO POR MEDIA')]\n",
    "alunos_aprovados_fmc_1 = pd.concat([alunos_aprovados_fmc_1,temp2])\n",
    " \n",
    "                # ORGANIZANDO O ANO DE 2016\n",
    "\n",
    "                # 2016.1\n",
    "            \n",
    "df = pd.read_csv('turmas-2016.1.csv' , sep = ';')\n",
    "fmc_1_2016_1 = df[df.id_componente_curricular == fmc_1_id]\n",
    "fmc_2_2016_1 = df[df.id_componente_curricular == fmc_2_id]\n",
    "id_fmc_1_turmas_2016_1 = list(fmc_1_2016_1.id_turma)\n",
<<<<<<< HEAD
    "id_fmc_2_turmas_2016_1 = list(fmc_2_2016_1.id_turma)\n",
    "##print (fmc_1_turmas_2015_1)\n",
=======
>>>>>>> 538042f44fc4226409ddaee87befc54d400d762e
    "\n",
    "df = pd.read_csv('matriculas-de-2016.1.csv', sep = ';')\n",
    "turmas_fmc_1_2016_1 = df[df.id_turma == id_fmc_1_turmas_2016_1[0]]\n",
    "for i in range(1 , len(id_fmc_1_turmas_2016_1)):\n",
    "    temp = df[df.id_turma == id_fmc_1_turmas_2016_1[i]]\n",
    "    turmas_fmc_1_2016_1 = pd.concat([turmas_fmc_1_2016_1, temp])\n",
    "temp2 = turmas_fmc_1_2016_1[(turmas_fmc_1_2016_1.descricao == 'APROVADO POR NOTA') |\n",
    "                            (turmas_fmc_1_2016_1.descricao == 'APROVADO POR MEDIA')]\n",
    "alunos_aprovados_fmc_1 = pd.concat([alunos_aprovados_fmc_1,temp2])\n",
    "\n",
    "                #2016.2\n",
    "\n",
    "df = pd.read_csv('turmas-2016.2.csv' , sep = ';')\n",
    "fmc_1_2016_2 = df[df.id_componente_curricular == fmc_1_id]\n",
    "fmc_2_2016_2 = df[df.id_componente_curricular == fmc_2_id]\n",
    "id_fmc_1_turmas_2016_2 = list(fmc_1_2016_2.id_turma)\n",
<<<<<<< HEAD
    "id_fmc_2_turmas_2016_2 = list(fmc_2_2016_2.id_turma)\n",
    "##print (fmc_1_turmas_2015_1)\n",
=======
    "\n",
>>>>>>> 538042f44fc4226409ddaee87befc54d400d762e
    "\n",
    "df = pd.read_csv('matriculas-de-2016.2.csv', sep = ';')\n",
    "turmas_fmc_1_2016_2 = df[df.id_turma == id_fmc_1_turmas_2016_2[0]]\n",
    "\n",
    "for i in range(1 , len(id_fmc_1_turmas_2016_2)):\n",
    "    temp = df[df.id_turma == id_fmc_1_turmas_2016_2[i]]\n",
    "    turmas_fmc_1_2016_2 = pd.concat([turmas_fmc_1_2016_2, temp])\n",
    "temp2 = turmas_fmc_1_2016_2[(turmas_fmc_1_2016_2.descricao == 'APROVADO POR NOTA') |\n",
    "                            (turmas_fmc_1_2016_2.descricao == 'APROVADO POR MEDIA')]\n",
    "\n",
    "alunos_aprovados_fmc_1 = pd.concat([alunos_aprovados_fmc_1,temp2])\n",
    "\n",
    "\n",
    "temp3 = list(alunos_aprovados_fmc_1.discente)\n",
    "lista_alunos_aprovados_fmc_1 = []\n",
    "for i in range(0, len(temp3)):\n",
    "    if temp3[i] not in lista_alunos_aprovados_fmc_1:\n",
    "        lista_alunos_aprovados_fmc_1.append(temp3[i])\n",
    "        \n",
    "\n",
<<<<<<< HEAD
    "print (alunos_aprovados_fmc_1)\n",
=======
    "#print (lista_alunos_aprovados_fmc_1)\n",
>>>>>>> 538042f44fc4226409ddaee87befc54d400d762e
    "    \n",
    "\n",
    "\n"
   ]
  },
  {
   "cell_type": "code",
   "execution_count": 128,
   "metadata": {},
   "outputs": [
    {
     "name": "stdout",
     "output_type": "stream",
     "text": [
      "['685d382aceefa5031509c9bb87e613dd', '5b3d2761e4cc4619686d665c914585fd', '8e0fe67e7758328f385c2a251f5b3c34', 'f250d74dc7561f1f4f5e39242df98be1', '23098723b9dcb1e7ec6616f6b25a4da7', 'd22a5d36f46120a9dab4b739e4848b17', '511d0df6f55de7f9c4818636b1535e02', '430325976024d5d1ef77afdcfaab016a', 'bb08f985540d1d45c21123066e5203e3', 'e793aa9d2b00b6830ee02eeb41f24dc2', 'aad31258ef0f8e30cd3d4eea691a6c18', 'dc71ff037f1e98823ef208155af16c47', '7d7818081df3453ff670193d07c96732', 'b7526a03c4edcc77987629a48ac76b64', '851fe8913fe7e4e3bb131ee4a393bcb6', 'a6828dd2dd4b8ff21c763f6d1f6f5e04', '761f231943a37ff29272bc3b4020fe0d', 'a8293007099ed594f8198548de44d95d', '46fcfa469134e1d7294e54ec241ce9b2', 'e023a67a7bf65d86e71bb690e4cb2ba1', '777afa50a3eae76c110581407b1e3129', '4120da6763c98152ecabdc8a07f4903d', '8336cceaf3e6275f4bd0611280702f1e', '3bb00a5655ef8884b4af55d4a2a65af6', 'ed6dd81dc57277659b753343bbeddbd1', 'fae8cbf7721681e3d274a69e4e1bdcfe', '7fe258d773987637116d18bf9ee966d6', 'a116b57e0577eceea56d80579d6976fb', '7e0c9d37a5d96aaf03233f4f8cb31608', '98dce2e1b2e4e013058b68ec163eb46f', '7c139dcc64de273719e442da230891cd', 'b48992acc8eac3465362de43c402f802', '8a7b533bdb6d32e09a5a2712312be0ea']\n"
     ]
    }
   ],
   "source": [
    "import pandas as pd\n",
    "\n",
    "df = pd.read_csv('componentes-curriculares-presenciais.csv' , sep = ';')\n",
    "fmc_1 = df[(df.codigo == \"IMD0028\") & (df.nome == \"FUNDAMENTOS MATEMÁTICOS DA COMPUTAÇÃO I\")]\n",
    "fmc_2 = df[(df.codigo == \"IMD0038\") & (df.nome == \"FUNDAMENTOS MATEMÁTICOS DA COMPUTAÇÃO II\")]\n",
    "fmc_1_id = int(fmc_1.id_componente)\n",
    "fmc_2_id = int(fmc_2.id_componente)\n",
    "##print(fmc_1_id)\n",
    "\n",
    "df = pd.read_csv('turmas-2015.1.csv' , sep = ';')\n",
    "fmc_1_2015_1 = df[df.id_componente_curricular == fmc_1_id]\n",
    "id_fmc_1_turmas_2015_1 = list(fmc_1_2015_1.id_turma)\n",
    "\n",
    "##print (fmc_1_turmas_2015_1)\n",
    "\n",
    "df = pd.read_csv('matriculas-de-2015.1.csv', sep = ';')\n",
    "turmas_fmc_1_2015_1 = df[df.id_turma == id_fmc_1_turmas_2015_1[0]]\n",
    "for i in range(1 , len(id_fmc_1_turmas_2015_1)):\n",
    "    temp = df[df.id_turma == id_fmc_1_turmas_2015_1[i]]\n",
    "    turmas_fmc_1_2015_1 = pd.concat([turmas_fmc_1_2015_1, temp])\n",
    "alunos_aprovados_fmc_1 = turmas_fmc_1_2015_1[(turmas_fmc_1_2015_1.descricao == 'APROVADO POR NOTA') |\n",
    "                                             (turmas_fmc_1_2015_1.descricao == 'APROVADO POR MEDIA')]\n",
    "\n",
    "temp3 = list(alunos_aprovados_fmc_1.discente)\n",
    "lista_alunos_aprovados_fmc_1 = []\n",
    "for i in range(0, len(temp3)):\n",
    "    if temp3[i] not in lista_alunos_aprovados_fmc_1:\n",
    "        lista_alunos_aprovados_fmc_1.append(temp3[i])\n",
    "        \n"
   ]
  },
  {
   "cell_type": "code",
   "execution_count": 137,
   "metadata": {
    "collapsed": true
   },
   "outputs": [],
   "source": [
    "df = pd.read_csv('matriculas-de-2015.2.csv', sep = ';')\n",
    "turmas_fmc_2_2015_2 = df[df.id_turma == id_fmc_2_turmas_2015_2[0]]\n",
    "for i in range(1 , len(id_fmc_2_turmas_2015_2)):\n",
    "    temp = df[df.id_turma == id_fmc_2_turmas_2015_2[i]]\n",
    "    turmas_fmc_2_2015_2 = pd.concat([turmas_fmc_2_2015_2, temp])\n",
    "\n",
    "alunos_fmc_2 = turmas_fmc_2_2015_2[turmas_fmc_2_2015_2.discente == lista_alunos_aprovados_fmc_1[0]]\n",
    "\n",
    "for i in range(1 , len(lista_alunos_aprovados_fmc_1)):\n",
    "    temp = turmas_fmc_2_2015_2[turmas_fmc_2_2015_2.discente == lista_alunos_aprovados_fmc_1[i]]\n",
    "    alunos_fmc_2 = pd.concat([alunos_fmc_2, temp])\n",
    "\n",
    "\n",
    "    \n",
    "    \n",
    "\n",
    "##print(alunos_fmc_2)\n",
    "##print(turmas_fmc_2_2015_2)"
   ]
  },
  {
   "cell_type": "code",
   "execution_count": null,
   "metadata": {
    "collapsed": true
   },
   "outputs": [],
   "source": []
  },
  {
   "cell_type": "code",
   "execution_count": 185,
   "metadata": {},
   "outputs": [
    {
     "ename": "ValueError",
     "evalue": "labels [ True  True  True False False False False False False False False False\n False False False False False False False False False False False False\n False False False False False False False False False False False False\n False False False False False False False False False False False False\n False False False False False False False False False False False False\n False False False False False False False False False False False False\n False False False False False False False False False False False False\n False False False False False False False False False False False False\n False False False] not contained in axis",
     "output_type": "error",
     "traceback": [
      "\u001b[0;31m---------------------------------------------------------------------------\u001b[0m",
      "\u001b[0;31mValueError\u001b[0m                                Traceback (most recent call last)",
      "\u001b[0;32m<ipython-input-185-aa707dcf9958>\u001b[0m in \u001b[0;36m<module>\u001b[0;34m()\u001b[0m\n\u001b[1;32m     10\u001b[0m \u001b[0;32mfor\u001b[0m \u001b[0mi\u001b[0m \u001b[0;32min\u001b[0m \u001b[0mlista_alunos_fmc_2\u001b[0m\u001b[0;34m:\u001b[0m\u001b[0;34m\u001b[0m\u001b[0m\n\u001b[1;32m     11\u001b[0m     \u001b[0;32mif\u001b[0m \u001b[0mi\u001b[0m \u001b[0;32mnot\u001b[0m \u001b[0;32min\u001b[0m \u001b[0malunos_aprovados_fmc_1\u001b[0m\u001b[0;34m.\u001b[0m\u001b[0mdiscente\u001b[0m\u001b[0;34m:\u001b[0m\u001b[0;34m\u001b[0m\u001b[0m\n\u001b[0;32m---> 12\u001b[0;31m         \u001b[0malunos_aprovados_fmc_1\u001b[0m\u001b[0;34m.\u001b[0m\u001b[0mdrop\u001b[0m\u001b[0;34m(\u001b[0m\u001b[0malunos_aprovados_fmc_1\u001b[0m\u001b[0;34m.\u001b[0m\u001b[0mdiscente\u001b[0m \u001b[0;34m==\u001b[0m \u001b[0mi\u001b[0m\u001b[0;34m)\u001b[0m\u001b[0;34m\u001b[0m\u001b[0m\n\u001b[0m\u001b[1;32m     13\u001b[0m \u001b[0;34m\u001b[0m\u001b[0m\n\u001b[1;32m     14\u001b[0m \u001b[0mprint\u001b[0m\u001b[0;34m(\u001b[0m\u001b[0malunos_aprovados_fmc_1\u001b[0m\u001b[0;34m)\u001b[0m\u001b[0;34m\u001b[0m\u001b[0m\n",
      "\u001b[0;32m/home/talles/anaconda3/lib/python3.6/site-packages/pandas/core/generic.py\u001b[0m in \u001b[0;36mdrop\u001b[0;34m(self, labels, axis, level, inplace, errors)\u001b[0m\n\u001b[1;32m   2048\u001b[0m                 \u001b[0mnew_axis\u001b[0m \u001b[0;34m=\u001b[0m \u001b[0maxis\u001b[0m\u001b[0;34m.\u001b[0m\u001b[0mdrop\u001b[0m\u001b[0;34m(\u001b[0m\u001b[0mlabels\u001b[0m\u001b[0;34m,\u001b[0m \u001b[0mlevel\u001b[0m\u001b[0;34m=\u001b[0m\u001b[0mlevel\u001b[0m\u001b[0;34m,\u001b[0m \u001b[0merrors\u001b[0m\u001b[0;34m=\u001b[0m\u001b[0merrors\u001b[0m\u001b[0;34m)\u001b[0m\u001b[0;34m\u001b[0m\u001b[0m\n\u001b[1;32m   2049\u001b[0m             \u001b[0;32melse\u001b[0m\u001b[0;34m:\u001b[0m\u001b[0;34m\u001b[0m\u001b[0m\n\u001b[0;32m-> 2050\u001b[0;31m                 \u001b[0mnew_axis\u001b[0m \u001b[0;34m=\u001b[0m \u001b[0maxis\u001b[0m\u001b[0;34m.\u001b[0m\u001b[0mdrop\u001b[0m\u001b[0;34m(\u001b[0m\u001b[0mlabels\u001b[0m\u001b[0;34m,\u001b[0m \u001b[0merrors\u001b[0m\u001b[0;34m=\u001b[0m\u001b[0merrors\u001b[0m\u001b[0;34m)\u001b[0m\u001b[0;34m\u001b[0m\u001b[0m\n\u001b[0m\u001b[1;32m   2051\u001b[0m             \u001b[0mdropped\u001b[0m \u001b[0;34m=\u001b[0m \u001b[0mself\u001b[0m\u001b[0;34m.\u001b[0m\u001b[0mreindex\u001b[0m\u001b[0;34m(\u001b[0m\u001b[0;34m**\u001b[0m\u001b[0;34m{\u001b[0m\u001b[0maxis_name\u001b[0m\u001b[0;34m:\u001b[0m \u001b[0mnew_axis\u001b[0m\u001b[0;34m}\u001b[0m\u001b[0;34m)\u001b[0m\u001b[0;34m\u001b[0m\u001b[0m\n\u001b[1;32m   2052\u001b[0m             \u001b[0;32mtry\u001b[0m\u001b[0;34m:\u001b[0m\u001b[0;34m\u001b[0m\u001b[0m\n",
      "\u001b[0;32m/home/talles/anaconda3/lib/python3.6/site-packages/pandas/core/indexes/base.py\u001b[0m in \u001b[0;36mdrop\u001b[0;34m(self, labels, errors)\u001b[0m\n\u001b[1;32m   3573\u001b[0m             \u001b[0;32mif\u001b[0m \u001b[0merrors\u001b[0m \u001b[0;34m!=\u001b[0m \u001b[0;34m'ignore'\u001b[0m\u001b[0;34m:\u001b[0m\u001b[0;34m\u001b[0m\u001b[0m\n\u001b[1;32m   3574\u001b[0m                 raise ValueError('labels %s not contained in axis' %\n\u001b[0;32m-> 3575\u001b[0;31m                                  labels[mask])\n\u001b[0m\u001b[1;32m   3576\u001b[0m             \u001b[0mindexer\u001b[0m \u001b[0;34m=\u001b[0m \u001b[0mindexer\u001b[0m\u001b[0;34m[\u001b[0m\u001b[0;34m~\u001b[0m\u001b[0mmask\u001b[0m\u001b[0;34m]\u001b[0m\u001b[0;34m\u001b[0m\u001b[0m\n\u001b[1;32m   3577\u001b[0m         \u001b[0;32mreturn\u001b[0m \u001b[0mself\u001b[0m\u001b[0;34m.\u001b[0m\u001b[0mdelete\u001b[0m\u001b[0;34m(\u001b[0m\u001b[0mindexer\u001b[0m\u001b[0;34m)\u001b[0m\u001b[0;34m\u001b[0m\u001b[0m\n",
      "\u001b[0;31mValueError\u001b[0m: labels [ True  True  True False False False False False False False False False\n False False False False False False False False False False False False\n False False False False False False False False False False False False\n False False False False False False False False False False False False\n False False False False False False False False False False False False\n False False False False False False False False False False False False\n False False False False False False False False False False False False\n False False False False False False False False False False False False\n False False False] not contained in axis"
     ]
    }
   ],
   "source": [
    "import seaborn as sns\n",
    "import matplotlib.pyplot as plt\n",
    "\n",
    "temp4 = list(alunos_fmc_2.discente)\n",
    "lista_alunos_fmc_2 = []\n",
    "for i in range(0, len(temp4)):\n",
    "    if temp4[i] not in lista_alunos_fmc_2:\n",
    "        lista_alunos_fmc_2.append(temp4[i])\n",
    "\n",
    "for i in lista_alunos_fmc_2:\n",
    "    if i not in alunos_aprovados_fmc_1.discente:\n",
    "        alunos_aprovados_fmc_1.drop(alunos_aprovados_fmc_1.discente == i)\n",
    "        \n",
    "print(alunos_aprovados_fmc_1)        \n",
    "##nova_lista_fmc_1 = turmas_fmc_2_2015_2[turmas_fmc_2_2015_2.discente == lista_alunos_fmc_2[0]] \n",
    "##for i in range(1 , len(lista_alunos_fmc_2)):\n",
    "  ##  temp = turmas_fmc_2_2015_2[turmas_fmc_2_2015_2.discente == lista_alunos_aprovados_fmc_1[i]]\n",
    "   ## nova_lista_fmc_1 = pd.concat([nova_lista_fmc_1, temp])        \n",
    "\n",
    "    \n",
    "##print(nova_lista_fmc_1)\n",
    "\n",
    "##print(len(alunos_fmc_2))\n",
    "##sns.regplot(x=alunos_fmc_2['media_final'], y=alunos_aprovados_fmc_1['media_final'],fit_reg=False)\n",
    "##plt.show()"
   ]
  },
  {
   "cell_type": "code",
   "execution_count": null,
   "metadata": {
    "collapsed": true
   },
   "outputs": [],
   "source": []
  }
 ],
 "metadata": {
  "kernelspec": {
   "display_name": "Python 3",
   "language": "python",
   "name": "python3"
  },
  "language_info": {
   "codemirror_mode": {
    "name": "ipython",
    "version": 3
   },
   "file_extension": ".py",
   "mimetype": "text/x-python",
   "name": "python",
   "nbconvert_exporter": "python",
   "pygments_lexer": "ipython3",
   "version": "3.6.2"
  }
 },
 "nbformat": 4,
 "nbformat_minor": 2
}
