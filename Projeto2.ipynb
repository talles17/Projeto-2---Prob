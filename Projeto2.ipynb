{
 "cells": [
  {
   "cell_type": "code",
   "execution_count": 14,
   "metadata": {},
   "outputs": [
    {
     "data": {
      "text/html": [
       "<div>\n",
       "<style>\n",
       "    .dataframe thead tr:only-child th {\n",
       "        text-align: right;\n",
       "    }\n",
       "\n",
       "    .dataframe thead th {\n",
       "        text-align: left;\n",
       "    }\n",
       "\n",
       "    .dataframe tbody tr th {\n",
       "        vertical-align: top;\n",
       "    }\n",
       "</style>\n",
       "<table border=\"1\" class=\"dataframe\">\n",
       "  <thead>\n",
       "    <tr style=\"text-align: right;\">\n",
       "      <th></th>\n",
       "      <th>id_turma</th>\n",
       "      <th>codigo</th>\n",
       "      <th>nome_ascii</th>\n",
       "      <th>docente_interno</th>\n",
       "      <th>docente_externo</th>\n",
       "      <th>nivel_ensino</th>\n",
       "      <th>ano</th>\n",
       "      <th>periodo</th>\n",
       "      <th>capacidade_aluno</th>\n",
       "      <th>local</th>\n",
       "      <th>...</th>\n",
       "      <th>distancia</th>\n",
       "      <th>tipo</th>\n",
       "      <th>data_consolidacao</th>\n",
       "      <th>agrupadora</th>\n",
       "      <th>qtd_aulas_lancadas</th>\n",
       "      <th>situacao_turma</th>\n",
       "      <th>convenio</th>\n",
       "      <th>modalidade_participantes</th>\n",
       "      <th>campus_turma</th>\n",
       "      <th>Unnamed: 24</th>\n",
       "    </tr>\n",
       "  </thead>\n",
       "  <tbody>\n",
       "    <tr>\n",
       "      <th>5983</th>\n",
       "      <td>57597922</td>\n",
       "      <td>IMD0038</td>\n",
       "      <td>FUNDAMENTOS MATEMATICOS DA COMPUTACAO II</td>\n",
       "      <td>5258ff44921100de32b56af4b06edf2d</td>\n",
       "      <td>NaN</td>\n",
       "      <td>GRADUAÇÃO</td>\n",
       "      <td>2017</td>\n",
       "      <td>1</td>\n",
       "      <td>60.0</td>\n",
       "      <td>A308</td>\n",
       "      <td>...</td>\n",
       "      <td>f</td>\n",
       "      <td>1</td>\n",
       "      <td>2017-07-06 15:40:14.841</td>\n",
       "      <td>f</td>\n",
       "      <td>110.0</td>\n",
       "      <td>CONSOLIDADA</td>\n",
       "      <td>NaN</td>\n",
       "      <td>Presencial</td>\n",
       "      <td>Campus Central</td>\n",
       "      <td>NaN</td>\n",
       "    </tr>\n",
       "    <tr>\n",
       "      <th>5988</th>\n",
       "      <td>57597928</td>\n",
       "      <td>IMD0038</td>\n",
       "      <td>FUNDAMENTOS MATEMATICOS DA COMPUTACAO II</td>\n",
       "      <td>5258ff44921100de32b56af4b06edf2d</td>\n",
       "      <td>NaN</td>\n",
       "      <td>GRADUAÇÃO</td>\n",
       "      <td>2017</td>\n",
       "      <td>1</td>\n",
       "      <td>60.0</td>\n",
       "      <td>A308</td>\n",
       "      <td>...</td>\n",
       "      <td>f</td>\n",
       "      <td>1</td>\n",
       "      <td>2017-07-05 19:56:59.837</td>\n",
       "      <td>f</td>\n",
       "      <td>110.0</td>\n",
       "      <td>CONSOLIDADA</td>\n",
       "      <td>NaN</td>\n",
       "      <td>Presencial</td>\n",
       "      <td>Campus Central</td>\n",
       "      <td>NaN</td>\n",
       "    </tr>\n",
       "  </tbody>\n",
       "</table>\n",
       "<p>2 rows × 25 columns</p>\n",
       "</div>"
      ],
      "text/plain": [
       "      id_turma   codigo                                nome_ascii  \\\n",
       "5983  57597922  IMD0038  FUNDAMENTOS MATEMATICOS DA COMPUTACAO II   \n",
       "5988  57597928  IMD0038  FUNDAMENTOS MATEMATICOS DA COMPUTACAO II   \n",
       "\n",
       "                       docente_interno docente_externo nivel_ensino   ano  \\\n",
       "5983  5258ff44921100de32b56af4b06edf2d             NaN    GRADUAÇÃO  2017   \n",
       "5988  5258ff44921100de32b56af4b06edf2d             NaN    GRADUAÇÃO  2017   \n",
       "\n",
       "      periodo  capacidade_aluno local     ...      distancia tipo  \\\n",
       "5983        1              60.0  A308     ...              f    1   \n",
       "5988        1              60.0  A308     ...              f    1   \n",
       "\n",
       "            data_consolidacao agrupadora qtd_aulas_lancadas situacao_turma  \\\n",
       "5983  2017-07-06 15:40:14.841          f              110.0    CONSOLIDADA   \n",
       "5988  2017-07-05 19:56:59.837          f              110.0    CONSOLIDADA   \n",
       "\n",
       "      convenio modalidade_participantes    campus_turma  Unnamed: 24  \n",
       "5983       NaN               Presencial  Campus Central          NaN  \n",
       "5988       NaN               Presencial  Campus Central          NaN  \n",
       "\n",
       "[2 rows x 25 columns]"
      ]
     },
     "execution_count": 14,
     "metadata": {},
     "output_type": "execute_result"
    }
   ],
   "source": [
    "import pandas as pd\n",
    "df = pd.read_csv('turmas-2017.1.csv' , sep = ';')\n",
    "fmc_1 = df[(df.codigo == \"IMD0028\")]\n",
    "fmc_2 = df[(df.codigo == \"IMD0038\")]\n",
    "fmc_2 = fmc_2[0:2]\n",
    "prob = df[(df.codigo == \"IMD0033\")]\n",
    "fmc_2.head()"
   ]
  },
  {
   "cell_type": "code",
   "execution_count": 17,
   "metadata": {},
   "outputs": [
    {
     "ename": "NameError",
     "evalue": "name 'turmas_fmc_1' is not defined",
     "output_type": "error",
     "traceback": [
      "\u001b[0;31m---------------------------------------------------------------------------\u001b[0m",
      "\u001b[0;31mNameError\u001b[0m                                 Traceback (most recent call last)",
      "\u001b[0;32m<ipython-input-17-078c55c8d904>\u001b[0m in \u001b[0;36m<module>\u001b[0;34m()\u001b[0m\n\u001b[1;32m      6\u001b[0m \u001b[0;32mfor\u001b[0m \u001b[0mi\u001b[0m \u001b[0;32min\u001b[0m \u001b[0mrange\u001b[0m \u001b[0;34m(\u001b[0m\u001b[0;36m0\u001b[0m\u001b[0;34m,\u001b[0m \u001b[0mlen\u001b[0m\u001b[0;34m(\u001b[0m\u001b[0mid_turma_fmc_1\u001b[0m\u001b[0;34m)\u001b[0m\u001b[0;34m)\u001b[0m\u001b[0;34m:\u001b[0m\u001b[0;34m\u001b[0m\u001b[0m\n\u001b[1;32m      7\u001b[0m     \u001b[0mtemp\u001b[0m \u001b[0;34m=\u001b[0m \u001b[0mmatricula\u001b[0m\u001b[0;34m[\u001b[0m\u001b[0mmatricula\u001b[0m\u001b[0;34m.\u001b[0m\u001b[0mid_turma\u001b[0m \u001b[0;34m==\u001b[0m \u001b[0mid_turma_fmc_1\u001b[0m\u001b[0;34m[\u001b[0m\u001b[0mi\u001b[0m\u001b[0;34m]\u001b[0m\u001b[0;34m]\u001b[0m\u001b[0;34m\u001b[0m\u001b[0m\n\u001b[0;32m----> 8\u001b[0;31m     \u001b[0mturmas_fmc_1\u001b[0m \u001b[0;34m=\u001b[0m \u001b[0mpd\u001b[0m\u001b[0;34m.\u001b[0m\u001b[0mconcat\u001b[0m\u001b[0;34m(\u001b[0m\u001b[0;34m[\u001b[0m\u001b[0mturmas_fmc_1\u001b[0m\u001b[0;34m,\u001b[0m \u001b[0mtemp\u001b[0m\u001b[0;34m]\u001b[0m\u001b[0;34m)\u001b[0m\u001b[0;34m\u001b[0m\u001b[0m\n\u001b[0m\u001b[1;32m      9\u001b[0m \u001b[0;31m##print (turmas_lp)\u001b[0m\u001b[0;34m\u001b[0m\u001b[0;34m\u001b[0m\u001b[0m\n",
      "\u001b[0;31mNameError\u001b[0m: name 'turmas_fmc_1' is not defined"
     ]
    }
   ],
   "source": [
    "id_turma_fmc_1=fmc_1.id_turma.tolist()\n",
    "id_turma_fmc_2=fmc_2.id_turma.tolist()\n",
    "id_turma_prob=prob.id_turma.tolist()\n",
    "\n",
    "matricula = pd.read_csv('matricula-componente-20171.csv', sep = ';')\n",
    "for i in range (0, len(id_turma_fmc_1)):\n",
    "    temp = matricula[matricula.id_turma == id_turma_fmc_1[i]]\n",
    "    turmas_fmc_1 = pd.concat([turmas_fmc_1, temp])\n",
    "##print (turmas_lp)"
   ]
  },
  {
   "cell_type": "code",
   "execution_count": null,
   "metadata": {
    "collapsed": true
   },
   "outputs": [],
   "source": []
  }
 ],
 "metadata": {
  "kernelspec": {
   "display_name": "Python 3",
   "language": "python",
   "name": "python3"
  },
  "language_info": {
   "codemirror_mode": {
    "name": "ipython",
    "version": 3
   },
   "file_extension": ".py",
   "mimetype": "text/x-python",
   "name": "python",
   "nbconvert_exporter": "python",
   "pygments_lexer": "ipython3",
   "version": "3.6.1"
  }
 },
 "nbformat": 4,
 "nbformat_minor": 2
}
